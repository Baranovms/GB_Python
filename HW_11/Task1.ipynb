{
 "cells": [
  {
   "attachments": {},
   "cell_type": "markdown",
   "metadata": {},
   "source": [
    "f(x) = -12x^4 - 18x^3+5x^2 + 10x - 30\n",
    "  1. Определить корни\n",
    "  2. Найти интервалы, на которых функция возрастает\n",
    "  3. Найти интервалы, на которых функция убывает\n",
    "  4. Построить график\n",
    "  5. Вычислить вершину\n",
    "  6. Определить промежутки, на котором f > 0\n",
    "  7. Определить промежутки, на котором f < 0"
   ]
  },
  {
   "cell_type": "code",
   "execution_count": 3,
   "metadata": {},
   "outputs": [],
   "source": [
    "import math\n",
    "from sympy import *\n",
    "from sympy.plotting import plot as plt\n",
    "from sympy import Interval, symbols, solveset\n",
    "init_printing()\n",
    "\n",
    "x = Symbol('x')\n",
    "fx = (-12)*x**4 - 18*x**3 + 5*x**2 + 10*x - 30"
   ]
  },
  {
   "attachments": {},
   "cell_type": "markdown",
   "metadata": {},
   "source": [
    "1. Определить корни"
   ]
  },
  {
   "attachments": {},
   "cell_type": "markdown",
   "metadata": {},
   "source": [
    "x1, x2 = solve(fx)\n",
    "print('первый корень', round(x1.evalf(), 2),'\\nвторой корень', round(x2.evalf(), 2))"
   ]
  },
  {
   "attachments": {},
   "cell_type": "markdown",
   "metadata": {},
   "source": [
    "2. Найти интервалы, на которых функция возрастает"
   ]
  },
  {
   "cell_type": "code",
   "execution_count": 4,
   "metadata": {},
   "outputs": [
    {
     "data": {
      "text/latex": [
       "$\\displaystyle \\left(-\\infty < x \\wedge x < \\operatorname{CRootOf} {\\left(24 x^{3} + 27 x^{2} - 5 x - 5, 0\\right)}\\right) \\vee \\left(x < \\operatorname{CRootOf} {\\left(24 x^{3} + 27 x^{2} - 5 x - 5, 2\\right)} \\wedge \\operatorname{CRootOf} {\\left(24 x^{3} + 27 x^{2} - 5 x - 5, 1\\right)} < x\\right)$"
      ],
      "text/plain": [
       "⎛                    ⎛    3       2             ⎞⎞   ⎛           ⎛    3       \n",
       "⎝-∞ < x ∧ x < CRootOf⎝24⋅x  + 27⋅x  - 5⋅x - 5, 0⎠⎠ ∨ ⎝x < CRootOf⎝24⋅x  + 27⋅x\n",
       "\n",
       "2             ⎞          ⎛    3       2             ⎞    ⎞\n",
       "  - 5⋅x - 5, 2⎠ ∧ CRootOf⎝24⋅x  + 27⋅x  - 5⋅x - 5, 1⎠ < x⎠"
      ]
     },
     "execution_count": 4,
     "metadata": {},
     "output_type": "execute_result"
    }
   ],
   "source": [
    "solve(diff(fx)>0)"
   ]
  },
  {
   "attachments": {},
   "cell_type": "markdown",
   "metadata": {},
   "source": [
    "3. Найти интервалы, на которых функция убывает"
   ]
  },
  {
   "cell_type": "code",
   "execution_count": 5,
   "metadata": {},
   "outputs": [
    {
     "data": {
      "text/latex": [
       "$\\displaystyle \\left(x < \\infty \\wedge \\operatorname{CRootOf} {\\left(24 x^{3} + 27 x^{2} - 5 x - 5, 2\\right)} < x\\right) \\vee \\left(x < \\operatorname{CRootOf} {\\left(24 x^{3} + 27 x^{2} - 5 x - 5, 1\\right)} \\wedge \\operatorname{CRootOf} {\\left(24 x^{3} + 27 x^{2} - 5 x - 5, 0\\right)} < x\\right)$"
      ],
      "text/plain": [
       "⎛               ⎛    3       2             ⎞    ⎞   ⎛           ⎛    3       2\n",
       "⎝x < ∞ ∧ CRootOf⎝24⋅x  + 27⋅x  - 5⋅x - 5, 2⎠ < x⎠ ∨ ⎝x < CRootOf⎝24⋅x  + 27⋅x \n",
       "\n",
       "             ⎞          ⎛    3       2             ⎞    ⎞\n",
       " - 5⋅x - 5, 1⎠ ∧ CRootOf⎝24⋅x  + 27⋅x  - 5⋅x - 5, 0⎠ < x⎠"
      ]
     },
     "execution_count": 5,
     "metadata": {},
     "output_type": "execute_result"
    }
   ],
   "source": [
    "solve(diff(fx)<0)"
   ]
  },
  {
   "attachments": {},
   "cell_type": "markdown",
   "metadata": {},
   "source": [
    "4. Построить график"
   ]
  },
  {
   "cell_type": "code",
   "execution_count": 6,
   "metadata": {},
   "outputs": [
    {
     "name": "stdout",
     "output_type": "stream",
     "text": [
      "      0 |               .......................                 \n",
      "        |            ...                       ...              \n",
      "        |          ..                             ..            \n",
      "        |        ..                                 ..          \n",
      "        |       /                                     \\         \n",
      "        |      /                                       \\        \n",
      "        |     /                                         \\       \n",
      "        |    .                                           .      \n",
      "        |                                                       \n",
      "        |   .                                             .     \n",
      " -70000 |-------------------------------------------------------\n",
      "        |  .                                               .    \n",
      "        | .                                                 .   \n",
      "        |                                                       \n",
      "        |                                                       \n",
      "        |.                                                   .  \n",
      "        |                                                       \n",
      "        |                                                     . \n",
      "        |                                                       \n",
      "        |                                                       \n",
      "-140000 |_______________________________________________________\n",
      "         -10                        0                          10\n"
     ]
    }
   ],
   "source": [
    "p = plt(fx)"
   ]
  },
  {
   "attachments": {},
   "cell_type": "markdown",
   "metadata": {},
   "source": [
    "5. Вычислить вершину"
   ]
  },
  {
   "cell_type": "code",
   "execution_count": 7,
   "metadata": {},
   "outputs": [
    {
     "data": {
      "text/latex": [
       "$\\displaystyle \\left[ - \\frac{3}{8} + \\left(- \\frac{1}{2} - \\frac{\\sqrt{3} i}{2}\\right) \\sqrt[3]{\\frac{19}{1536} + \\frac{\\sqrt{108895} i}{3456}} + \\frac{121}{576 \\left(- \\frac{1}{2} - \\frac{\\sqrt{3} i}{2}\\right) \\sqrt[3]{\\frac{19}{1536} + \\frac{\\sqrt{108895} i}{3456}}}, \\  - \\frac{3}{8} + \\frac{121}{576 \\left(- \\frac{1}{2} + \\frac{\\sqrt{3} i}{2}\\right) \\sqrt[3]{\\frac{19}{1536} + \\frac{\\sqrt{108895} i}{3456}}} + \\left(- \\frac{1}{2} + \\frac{\\sqrt{3} i}{2}\\right) \\sqrt[3]{\\frac{19}{1536} + \\frac{\\sqrt{108895} i}{3456}}, \\  - \\frac{3}{8} + \\frac{121}{576 \\sqrt[3]{\\frac{19}{1536} + \\frac{\\sqrt{108895} i}{3456}}} + \\sqrt[3]{\\frac{19}{1536} + \\frac{\\sqrt{108895} i}{3456}}\\right]$"
      ],
      "text/plain": [
       "⎡                       __________________                                    \n",
       "⎢  3   ⎛  1   √3⋅ⅈ⎞    ╱  19    √108895⋅ⅈ                      121            \n",
       "⎢- ─ + ⎜- ─ - ────⎟⋅3 ╱  ──── + ─────────  + ─────────────────────────────────\n",
       "⎢  8   ⎝  2    2  ⎠ ╲╱   1536      3456                           ____________\n",
       "⎢                                                ⎛  1   √3⋅ⅈ⎞    ╱  19    √108\n",
       "⎢                                            576⋅⎜- ─ - ────⎟⋅3 ╱  ──── + ────\n",
       "⎣                                                ⎝  2    2  ⎠ ╲╱   1536      3\n",
       "\n",
       "                                                                         _____\n",
       "          3                     121                     ⎛  1   √3⋅ⅈ⎞    ╱  19 \n",
       "──────, - ─ + ─────────────────────────────────────── + ⎜- ─ + ────⎟⋅3 ╱  ────\n",
       "______    8                        __________________   ⎝  2    2  ⎠ ╲╱   1536\n",
       "895⋅ⅈ             ⎛  1   √3⋅ⅈ⎞    ╱  19    √108895⋅ⅈ                          \n",
       "─────         576⋅⎜- ─ + ────⎟⋅3 ╱  ──── + ─────────                          \n",
       "456               ⎝  2    2  ⎠ ╲╱   1536      3456                            \n",
       "\n",
       "_____________                                         __________________⎤\n",
       "   √108895⋅ⅈ     3              121                  ╱  19    √108895⋅ⅈ ⎥\n",
       " + ───────── , - ─ + ────────────────────────── + 3 ╱  ──── + ───────── ⎥\n",
       "      3456       8           __________________   ╲╱   1536      3456   ⎥\n",
       "                            ╱  19    √108895⋅ⅈ                          ⎥\n",
       "                     576⋅3 ╱  ──── + ─────────                          ⎥\n",
       "                         ╲╱   1536      3456                            ⎦"
      ]
     },
     "execution_count": 7,
     "metadata": {},
     "output_type": "execute_result"
    }
   ],
   "source": [
    "solve(diff(fx))"
   ]
  },
  {
   "attachments": {},
   "cell_type": "markdown",
   "metadata": {},
   "source": [
    "6. Определить промежутки, на котором f > 0"
   ]
  },
  {
   "cell_type": "code",
   "execution_count": 8,
   "metadata": {},
   "outputs": [
    {
     "name": "stdout",
     "output_type": "stream",
     "text": [
      "False\n"
     ]
    }
   ],
   "source": [
    "print(solve(fx>0))"
   ]
  },
  {
   "attachments": {},
   "cell_type": "markdown",
   "metadata": {},
   "source": [
    "7. Определить промежутки, на котором f < 0"
   ]
  },
  {
   "cell_type": "code",
   "execution_count": 9,
   "metadata": {},
   "outputs": [
    {
     "name": "stdout",
     "output_type": "stream",
     "text": [
      "(-oo < x) & (x < oo)\n"
     ]
    }
   ],
   "source": [
    "print(solve(fx<0))"
   ]
  }
 ],
 "metadata": {
  "kernelspec": {
   "display_name": "Python 3",
   "language": "python",
   "name": "python3"
  },
  "language_info": {
   "codemirror_mode": {
    "name": "ipython",
    "version": 3
   },
   "file_extension": ".py",
   "mimetype": "text/x-python",
   "name": "python",
   "nbconvert_exporter": "python",
   "pygments_lexer": "ipython3",
   "version": "3.10.0"
  },
  "orig_nbformat": 4,
  "vscode": {
   "interpreter": {
    "hash": "fb4569285eef3a3450cb62085a5b1e0da4bce0af555edc33dcf29baf3acc1368"
   }
  }
 },
 "nbformat": 4,
 "nbformat_minor": 2
}
