{
 "cells": [
  {
   "attachments": {},
   "cell_type": "markdown",
   "metadata": {},
   "source": [
    "Работать с файлом california_housing_train.csv, который находится в папке sample_data."
   ]
  },
  {
   "cell_type": "code",
   "execution_count": 17,
   "metadata": {},
   "outputs": [
    {
     "data": {
      "text/html": [
       "<div>\n",
       "<style scoped>\n",
       "    .dataframe tbody tr th:only-of-type {\n",
       "        vertical-align: middle;\n",
       "    }\n",
       "\n",
       "    .dataframe tbody tr th {\n",
       "        vertical-align: top;\n",
       "    }\n",
       "\n",
       "    .dataframe thead th {\n",
       "        text-align: right;\n",
       "    }\n",
       "</style>\n",
       "<table border=\"1\" class=\"dataframe\">\n",
       "  <thead>\n",
       "    <tr style=\"text-align: right;\">\n",
       "      <th></th>\n",
       "      <th>longitude</th>\n",
       "      <th>latitude</th>\n",
       "      <th>housing_median_age</th>\n",
       "      <th>total_rooms</th>\n",
       "      <th>total_bedrooms</th>\n",
       "      <th>population</th>\n",
       "      <th>households</th>\n",
       "      <th>median_income</th>\n",
       "      <th>median_house_value</th>\n",
       "    </tr>\n",
       "  </thead>\n",
       "  <tbody>\n",
       "    <tr>\n",
       "      <th>3</th>\n",
       "      <td>-118.36</td>\n",
       "      <td>33.82</td>\n",
       "      <td>28.0</td>\n",
       "      <td>67.0</td>\n",
       "      <td>15.0</td>\n",
       "      <td>49.0</td>\n",
       "      <td>11.0</td>\n",
       "      <td>6.1359</td>\n",
       "      <td>330000.0</td>\n",
       "    </tr>\n",
       "    <tr>\n",
       "      <th>15</th>\n",
       "      <td>-117.99</td>\n",
       "      <td>33.81</td>\n",
       "      <td>42.0</td>\n",
       "      <td>161.0</td>\n",
       "      <td>40.0</td>\n",
       "      <td>157.0</td>\n",
       "      <td>50.0</td>\n",
       "      <td>2.2000</td>\n",
       "      <td>153100.0</td>\n",
       "    </tr>\n",
       "    <tr>\n",
       "      <th>16</th>\n",
       "      <td>-120.81</td>\n",
       "      <td>37.53</td>\n",
       "      <td>15.0</td>\n",
       "      <td>570.0</td>\n",
       "      <td>123.0</td>\n",
       "      <td>189.0</td>\n",
       "      <td>107.0</td>\n",
       "      <td>1.8750</td>\n",
       "      <td>181300.0</td>\n",
       "    </tr>\n",
       "    <tr>\n",
       "      <th>34</th>\n",
       "      <td>-118.32</td>\n",
       "      <td>33.94</td>\n",
       "      <td>38.0</td>\n",
       "      <td>1067.0</td>\n",
       "      <td>170.0</td>\n",
       "      <td>499.0</td>\n",
       "      <td>169.0</td>\n",
       "      <td>4.6389</td>\n",
       "      <td>183800.0</td>\n",
       "    </tr>\n",
       "    <tr>\n",
       "      <th>51</th>\n",
       "      <td>-119.42</td>\n",
       "      <td>35.97</td>\n",
       "      <td>21.0</td>\n",
       "      <td>554.0</td>\n",
       "      <td>121.0</td>\n",
       "      <td>426.0</td>\n",
       "      <td>122.0</td>\n",
       "      <td>2.3516</td>\n",
       "      <td>47500.0</td>\n",
       "    </tr>\n",
       "    <tr>\n",
       "      <th>...</th>\n",
       "      <td>...</td>\n",
       "      <td>...</td>\n",
       "      <td>...</td>\n",
       "      <td>...</td>\n",
       "      <td>...</td>\n",
       "      <td>...</td>\n",
       "      <td>...</td>\n",
       "      <td>...</td>\n",
       "      <td>...</td>\n",
       "    </tr>\n",
       "    <tr>\n",
       "      <th>2929</th>\n",
       "      <td>-117.23</td>\n",
       "      <td>32.74</td>\n",
       "      <td>16.0</td>\n",
       "      <td>735.0</td>\n",
       "      <td>139.0</td>\n",
       "      <td>299.0</td>\n",
       "      <td>134.0</td>\n",
       "      <td>4.6354</td>\n",
       "      <td>179200.0</td>\n",
       "    </tr>\n",
       "    <tr>\n",
       "      <th>2947</th>\n",
       "      <td>-123.02</td>\n",
       "      <td>38.81</td>\n",
       "      <td>35.0</td>\n",
       "      <td>956.0</td>\n",
       "      <td>213.0</td>\n",
       "      <td>488.0</td>\n",
       "      <td>215.0</td>\n",
       "      <td>3.0250</td>\n",
       "      <td>140600.0</td>\n",
       "    </tr>\n",
       "    <tr>\n",
       "      <th>2960</th>\n",
       "      <td>-117.89</td>\n",
       "      <td>33.60</td>\n",
       "      <td>36.0</td>\n",
       "      <td>1496.0</td>\n",
       "      <td>247.0</td>\n",
       "      <td>441.0</td>\n",
       "      <td>203.0</td>\n",
       "      <td>7.8164</td>\n",
       "      <td>500001.0</td>\n",
       "    </tr>\n",
       "    <tr>\n",
       "      <th>2992</th>\n",
       "      <td>-122.33</td>\n",
       "      <td>37.39</td>\n",
       "      <td>52.0</td>\n",
       "      <td>573.0</td>\n",
       "      <td>102.0</td>\n",
       "      <td>232.0</td>\n",
       "      <td>92.0</td>\n",
       "      <td>6.2263</td>\n",
       "      <td>500001.0</td>\n",
       "    </tr>\n",
       "    <tr>\n",
       "      <th>2998</th>\n",
       "      <td>-117.12</td>\n",
       "      <td>34.10</td>\n",
       "      <td>40.0</td>\n",
       "      <td>96.0</td>\n",
       "      <td>14.0</td>\n",
       "      <td>46.0</td>\n",
       "      <td>14.0</td>\n",
       "      <td>3.2708</td>\n",
       "      <td>162500.0</td>\n",
       "    </tr>\n",
       "  </tbody>\n",
       "</table>\n",
       "<p>303 rows × 9 columns</p>\n",
       "</div>"
      ],
      "text/plain": [
       "      longitude  latitude  housing_median_age  total_rooms  total_bedrooms  \\\n",
       "3       -118.36     33.82                28.0         67.0            15.0   \n",
       "15      -117.99     33.81                42.0        161.0            40.0   \n",
       "16      -120.81     37.53                15.0        570.0           123.0   \n",
       "34      -118.32     33.94                38.0       1067.0           170.0   \n",
       "51      -119.42     35.97                21.0        554.0           121.0   \n",
       "...         ...       ...                 ...          ...             ...   \n",
       "2929    -117.23     32.74                16.0        735.0           139.0   \n",
       "2947    -123.02     38.81                35.0        956.0           213.0   \n",
       "2960    -117.89     33.60                36.0       1496.0           247.0   \n",
       "2992    -122.33     37.39                52.0        573.0           102.0   \n",
       "2998    -117.12     34.10                40.0         96.0            14.0   \n",
       "\n",
       "      population  households  median_income  median_house_value  \n",
       "3           49.0        11.0         6.1359            330000.0  \n",
       "15         157.0        50.0         2.2000            153100.0  \n",
       "16         189.0       107.0         1.8750            181300.0  \n",
       "34         499.0       169.0         4.6389            183800.0  \n",
       "51         426.0       122.0         2.3516             47500.0  \n",
       "...          ...         ...            ...                 ...  \n",
       "2929       299.0       134.0         4.6354            179200.0  \n",
       "2947       488.0       215.0         3.0250            140600.0  \n",
       "2960       441.0       203.0         7.8164            500001.0  \n",
       "2992       232.0        92.0         6.2263            500001.0  \n",
       "2998        46.0        14.0         3.2708            162500.0  \n",
       "\n",
       "[303 rows x 9 columns]"
      ]
     },
     "execution_count": 17,
     "metadata": {},
     "output_type": "execute_result"
    }
   ],
   "source": [
    "import pandas as pd\n",
    "df = pd.read_csv('C:/Users/user/Downloads/Education/Python/GB_Python/HW_11/sample_data/california_housing_test.csv')\n",
    "\n",
    "df[(df['population'] < 500) & (df['population'] > 0)]"
   ]
  },
  {
   "attachments": {},
   "cell_type": "markdown",
   "metadata": {},
   "source": [
    "Определить среднюю стоимость дома, где кол-во людей от 0 до 500 (population)"
   ]
  },
  {
   "cell_type": "code",
   "execution_count": 21,
   "metadata": {},
   "outputs": [
    {
     "name": "stdout",
     "output_type": "stream",
     "text": [
      "[189222.81188118813]\n"
     ]
    }
   ],
   "source": [
    "print([df[(df['population'] < 500) & (df['population'] > 0)]['median_house_value'].mean()])"
   ]
  },
  {
   "cell_type": "code",
   "execution_count": 23,
   "metadata": {},
   "outputs": [
    {
     "name": "stdout",
     "output_type": "stream",
     "text": [
      "5.0\n"
     ]
    }
   ],
   "source": [
    "print(df['population'].min())"
   ]
  },
  {
   "cell_type": "code",
   "execution_count": 26,
   "metadata": {},
   "outputs": [
    {
     "data": {
      "text/html": [
       "<div>\n",
       "<style scoped>\n",
       "    .dataframe tbody tr th:only-of-type {\n",
       "        vertical-align: middle;\n",
       "    }\n",
       "\n",
       "    .dataframe tbody tr th {\n",
       "        vertical-align: top;\n",
       "    }\n",
       "\n",
       "    .dataframe thead th {\n",
       "        text-align: right;\n",
       "    }\n",
       "</style>\n",
       "<table border=\"1\" class=\"dataframe\">\n",
       "  <thead>\n",
       "    <tr style=\"text-align: right;\">\n",
       "      <th></th>\n",
       "      <th>longitude</th>\n",
       "      <th>latitude</th>\n",
       "      <th>housing_median_age</th>\n",
       "      <th>total_rooms</th>\n",
       "      <th>total_bedrooms</th>\n",
       "      <th>population</th>\n",
       "      <th>households</th>\n",
       "      <th>median_income</th>\n",
       "      <th>median_house_value</th>\n",
       "    </tr>\n",
       "  </thead>\n",
       "  <tbody>\n",
       "    <tr>\n",
       "      <th>2640</th>\n",
       "      <td>-114.62</td>\n",
       "      <td>33.62</td>\n",
       "      <td>26.0</td>\n",
       "      <td>18.0</td>\n",
       "      <td>3.0</td>\n",
       "      <td>5.0</td>\n",
       "      <td>3.0</td>\n",
       "      <td>0.536</td>\n",
       "      <td>275000.0</td>\n",
       "    </tr>\n",
       "  </tbody>\n",
       "</table>\n",
       "</div>"
      ],
      "text/plain": [
       "      longitude  latitude  housing_median_age  total_rooms  total_bedrooms  \\\n",
       "2640    -114.62     33.62                26.0         18.0             3.0   \n",
       "\n",
       "      population  households  median_income  median_house_value  \n",
       "2640         5.0         3.0          0.536            275000.0  "
      ]
     },
     "execution_count": 26,
     "metadata": {},
     "output_type": "execute_result"
    }
   ],
   "source": [
    "df[df['population']==5.0]"
   ]
  },
  {
   "attachments": {},
   "cell_type": "markdown",
   "metadata": {},
   "source": [
    "Узнать какая максимальная households в зоне минимального значения population"
   ]
  },
  {
   "cell_type": "code",
   "execution_count": 27,
   "metadata": {},
   "outputs": [
    {
     "name": "stdout",
     "output_type": "stream",
     "text": [
      "3.0\n"
     ]
    }
   ],
   "source": [
    "print(df[df['population']==5.0]['households'].max())"
   ]
  }
 ],
 "metadata": {
  "kernelspec": {
   "display_name": "Python 3",
   "language": "python",
   "name": "python3"
  },
  "language_info": {
   "codemirror_mode": {
    "name": "ipython",
    "version": 3
   },
   "file_extension": ".py",
   "mimetype": "text/x-python",
   "name": "python",
   "nbconvert_exporter": "python",
   "pygments_lexer": "ipython3",
   "version": "3.10.0"
  },
  "orig_nbformat": 4,
  "vscode": {
   "interpreter": {
    "hash": "fb4569285eef3a3450cb62085a5b1e0da4bce0af555edc33dcf29baf3acc1368"
   }
  }
 },
 "nbformat": 4,
 "nbformat_minor": 2
}
